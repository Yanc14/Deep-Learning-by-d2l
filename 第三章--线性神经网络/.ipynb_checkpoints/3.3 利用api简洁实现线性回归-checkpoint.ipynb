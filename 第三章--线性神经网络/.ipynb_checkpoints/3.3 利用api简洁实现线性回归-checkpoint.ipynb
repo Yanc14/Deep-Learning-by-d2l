{
 "cells": [
  {
   "cell_type": "code",
   "execution_count": 2,
   "id": "098dc6a1",
   "metadata": {},
   "outputs": [],
   "source": [
    "import numpy as np\n",
    "import torch\n",
    "from torch.utils import data\n",
    "from d2l import torch as d2l\n",
    "\n",
    "true_w = torch.tensor([2, -3.4])\n",
    "true_b = 4.2\n",
    "features, labels = d2l.synthetic_data(true_w, true_b, 1000)"
   ]
  },
  {
   "cell_type": "markdown",
   "id": "74b2f704",
   "metadata": {},
   "source": [
    "我们可以调用框架中现有的API来读取数据。我们将 features 和 labels 作为API的参数传递，并在实例化数据迭代器对象时指定 batch_size。此外，布尔值 is_train 表示是否希望数据迭代器对象在每个迭代周期内打乱数据。"
   ]
  },
  {
   "cell_type": "code",
   "execution_count": 3,
   "id": "70d6053e",
   "metadata": {},
   "outputs": [],
   "source": [
    "def load_array(data_arrays, batch_size, is_train=True):  #@save\n",
    "    \"\"\"构造一个PyTorch数据迭代器。\"\"\"\n",
    "    dataset = data.TensorDataset(*data_arrays)\n",
    "    return data.DataLoader(dataset, batch_size, shuffle=is_train)\n",
    "\n",
    "batch_size = 10\n",
    "data_iter = load_array((features, labels), batch_size)"
   ]
  },
  {
   "cell_type": "markdown",
   "id": "d5a40732",
   "metadata": {},
   "source": [
    "这里我们使用 iter 构造Python迭代器，并使用 next 从迭代器中获取第一项"
   ]
  },
  {
   "cell_type": "code",
   "execution_count": 4,
   "id": "7c2b6530",
   "metadata": {},
   "outputs": [
    {
     "data": {
      "text/plain": [
       "[tensor([[ 0.0722,  1.1987],\n",
       "         [-0.9575,  0.1302],\n",
       "         [ 0.0598, -0.8101],\n",
       "         [-0.2289,  1.1738],\n",
       "         [ 0.7056, -0.2061],\n",
       "         [-1.5180,  0.6027],\n",
       "         [-0.3997,  0.4394],\n",
       "         [ 0.8675, -0.7496],\n",
       "         [ 1.5603,  1.8490],\n",
       "         [-0.6618,  0.3615]]),\n",
       " tensor([[ 0.2536],\n",
       "         [ 1.8559],\n",
       "         [ 7.0675],\n",
       "         [-0.2322],\n",
       "         [ 6.3337],\n",
       "         [-0.8711],\n",
       "         [ 1.9056],\n",
       "         [ 8.4797],\n",
       "         [ 1.0392],\n",
       "         [ 1.6491]])]"
      ]
     },
     "execution_count": 4,
     "metadata": {},
     "output_type": "execute_result"
    }
   ],
   "source": [
    "next(iter(data_iter))"
   ]
  },
  {
   "cell_type": "markdown",
   "id": "4434a557",
   "metadata": {},
   "source": [
    "对于标准操作，我们可以使用框架的预定义好的层。这使我们只需关注使用哪些层来构造模型，而不必关注层的实现细节。我们首先定义一个模型变量net，它是一个 Sequential 类的实例。 Sequential 类为串联在一起的多个层定义了一个容器。当给定输入数据， Sequential 实例将数据传入到第一层，然后将第一层的输出作为第二层的输入，依此类推。在下面的例子中，我们的模型只包含一个层，因此实际上不需要Sequential。但是由于以后几乎所有的模型都是多层的，在这里使用Sequential会让你熟悉标准的流水线。"
   ]
  },
  {
   "cell_type": "code",
   "execution_count": 5,
   "id": "a4331277",
   "metadata": {},
   "outputs": [],
   "source": [
    "# `nn` 是神经网络的缩写\n",
    "from torch import nn\n",
    "\n",
    "net = nn.Sequential(nn.Linear(2, 1))"
   ]
  },
  {
   "cell_type": "markdown",
   "id": "429470ee",
   "metadata": {},
   "source": [
    "在 PyTorch 中，全连接层在 Linear 类中定义。值得注意的是，我们将两个参数传递到 nn.Linear 中。第一个指定输入特征形状，即 2，第二个指定输出特征形状，输出特征形状为单个标量，因此为 1。"
   ]
  },
  {
   "cell_type": "markdown",
   "id": "244502e7",
   "metadata": {},
   "source": [
    "3.4初始化模型参数\n",
    "\n",
    "我们通过 net[0] 选择网络中的第一个图层，然后使用 weight.data 和 bias.data 方法访问参数。然后使用替换方法 normal_ 和 fill_ 来重写参数值。;我们通过 net[0] 选择网络中的第一个图层，然后使用 weight.data 和 bias.data 方法访问参数。然后使用替换方法 normal_ 和 fill_ 来重写参数值。\n"
   ]
  },
  {
   "cell_type": "code",
   "execution_count": 6,
   "id": "6c2d13e5",
   "metadata": {},
   "outputs": [
    {
     "data": {
      "text/plain": [
       "tensor([0.])"
      ]
     },
     "execution_count": 6,
     "metadata": {},
     "output_type": "execute_result"
    }
   ],
   "source": [
    "net[0].weight.data.normal_(0, 0.01)\n",
    "net[0].bias.data.fill_(0)"
   ]
  },
  {
   "cell_type": "code",
   "execution_count": 7,
   "id": "e8cde608",
   "metadata": {},
   "outputs": [],
   "source": [
    "loss = nn.MSELoss()#计算均方误差使用的是MSELoss类，\n",
    "#也称为平方  L2  范数。默认情况下，它返回所有样本损失的平均值。"
   ]
  },
  {
   "cell_type": "markdown",
   "id": "e2d6b6ab",
   "metadata": {},
   "source": [
    "3.3.6. 定义优化算法\n",
    "\n",
    "小批量随机梯度下降算法是一种优化神经网络的标准工具，PyTorch 在 optim 模块中实现了该算法的许多变种。当我们实例化 SGD 实例时，我们要指定优化的参数（可通过 net.parameters() 从我们的模型中获得）以及优化算法所需的超参数字典。小批量随机梯度下降只需要设置 lr值，这里设置为 0.03。"
   ]
  },
  {
   "cell_type": "code",
   "execution_count": 8,
   "id": "610654f9",
   "metadata": {},
   "outputs": [],
   "source": [
    "trainer = torch.optim.SGD(net.parameters(), lr=0.03)"
   ]
  },
  {
   "cell_type": "markdown",
   "id": "acfc60a3",
   "metadata": {},
   "source": [
    "3.3.7. 训练\n",
    "\n",
    "通过深度学习框架的高级API来实现我们的模型只需要相对较少的代码。 我们不必单独分配参数、不必定义我们的损失函数，也不必手动实现小批量随机梯度下降。 当我们需要更复杂的模型时，高级API的优势将大大增加。 当我们有了所有的基本组件，训练过程代码与我们从零开始实现时所做的非常相似。\n",
    "\n",
    "回顾一下：在每个迭代周期里，我们将完整遍历一次数据集（train_data），不停地从中获取一个小批量的输入和相应的标签。对于每一个小批量，我们会进行以下步骤:\n",
    "\n",
    "    1.通过调用 net(X) 生成预测并计算损失 l（正向传播）。\n",
    "\n",
    "    2.通过进行反向传播来计算梯度。\n",
    "\n",
    "    3.通过调用优化器来更新模型参数。\n",
    "\n",
    "为了更好的衡量训练效果，我们计算每个迭代周期后的损失，并打印它来监控训练过程。"
   ]
  },
  {
   "cell_type": "code",
   "execution_count": 28,
   "id": "a7ebd142",
   "metadata": {},
   "outputs": [
    {
     "name": "stdout",
     "output_type": "stream",
     "text": [
      "epoch 1, loss 0.000102\n",
      "epoch 2, loss 0.000101\n",
      "epoch 3, loss 0.000101\n"
     ]
    }
   ],
   "source": [
    "num_epochs = 3\n",
    "for epoch in range(num_epochs):\n",
    "    for X, y in data_iter:\n",
    "        l = loss(net(X), y)#计算损失\n",
    "        trainer.zero_grad()#网络清空权向量的梯度\n",
    "        l.backward()#开启自动梯度\n",
    "        trainer.step()#步进\n",
    "    l = loss(net(features), labels)\n",
    "    print(f'epoch {epoch + 1}, loss {l:f}')"
   ]
  },
  {
   "cell_type": "code",
   "execution_count": 33,
   "id": "091aff78",
   "metadata": {},
   "outputs": [
    {
     "name": "stdout",
     "output_type": "stream",
     "text": [
      "w的估计误差： tensor([-0.0005, -0.0009])\n",
      "b的估计误差： tensor([-0.0004])\n"
     ]
    },
    {
     "data": {
      "text/plain": [
       "(tensor([[0.0007, 0.0026]]),)"
      ]
     },
     "execution_count": 33,
     "metadata": {},
     "output_type": "execute_result"
    }
   ],
   "source": [
    "w = net[0].weight.data\n",
    "print('w的估计误差：', true_w - w.reshape(true_w.shape))#注意这里reshpe使得结果变为一维行向量，否则变为二位列向量\n",
    "b = net[0].bias.data\n",
    "print('b的估计误差：', true_b - b)"
   ]
  },
  {
   "cell_type": "markdown",
   "id": "a784a414",
   "metadata": {},
   "source": [
    "练习1的问题应该改成“如果我们用nn.MSELoss(reduction=‘sum’)替换 ，nn.MSELoss（）”为了使代码的行为相同，需要怎么更改学习速率？为什么？\n",
    "答：应该把学习率除以batch_size，因为默认参数是’mean’，换成’sum’需要除以批量数，一般会采用默认，因为这样学习率可以跟batch_size解耦"
   ]
  },
  {
   "cell_type": "markdown",
   "id": "0b69f34e",
   "metadata": {},
   "source": [
    "你如何访问 net[0].weight 的梯度？\n",
    "\n"
   ]
  },
  {
   "cell_type": "code",
   "execution_count": 34,
   "id": "6e65ed5e",
   "metadata": {},
   "outputs": [
    {
     "data": {
      "text/plain": [
       "(tensor([[0.0007, 0.0026]]),)"
      ]
     },
     "execution_count": 34,
     "metadata": {},
     "output_type": "execute_result"
    }
   ],
   "source": [
    "net[0].weight.grad,#可见梯度以及下降很多了。基本到底了"
   ]
  },
  {
   "cell_type": "code",
   "execution_count": null,
   "id": "bb279bb4",
   "metadata": {},
   "outputs": [],
   "source": []
  }
 ],
 "metadata": {
  "kernelspec": {
   "display_name": "Python 3",
   "language": "python",
   "name": "python3"
  },
  "language_info": {
   "codemirror_mode": {
    "name": "ipython",
    "version": 3
   },
   "file_extension": ".py",
   "mimetype": "text/x-python",
   "name": "python",
   "nbconvert_exporter": "python",
   "pygments_lexer": "ipython3",
   "version": "3.7.6"
  }
 },
 "nbformat": 4,
 "nbformat_minor": 5
}
