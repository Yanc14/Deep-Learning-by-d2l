{
 "cells": [
  {
   "cell_type": "markdown",
   "id": "830c8dd0",
   "metadata": {},
   "source": [
    "https://zh-v2.d2l.ai/chapter_linear-networks/softmax-regression.html"
   ]
  },
  {
   "cell_type": "markdown",
   "id": "ca7d7f37",
   "metadata": {},
   "source": [
    "1.尽管softmax是一个非线性函数，但softmax回归的输出仍然由输入特征的仿射变换决定。因此，softmax回归是一个线性模型。"
   ]
  },
  {
   "cell_type": "markdown",
   "id": "e625bc40",
   "metadata": {},
   "source": [
    "2.其中，对于任何标签  y  和模型预测  y^ ，损失函数为：\n",
    "\n",
    "(3.4.8)\n",
    "l(y,y^)=−∑j=1qyjlogy^j.\n",
    " \n",
    "在本节稍后的内容会讲到， (3.4.8) 中的损失函数通常被称为 交叉熵损失（cross-entropy loss）。由于  y  是一个长度为  q  的独热编码向量，所以除了一个项以外的所有项  j  都消失了。由于所有  y^j  都是预测的概率，所以它们的对数永远不会大于  0 。 因此，如果正确地预测实际标签，即，如果实际标签  P(y∣x)=1 ，则损失函数不能进一步最小化。 注意，这往往是不可能的。例如，数据集中可能存在标签噪声（某些样本可能被误标），或输入特征没有足够的信息来完美地对每一个样本分类。\n"
   ]
  },
  {
   "cell_type": "markdown",
   "id": "d49a495f",
   "metadata": {},
   "source": [
    "3.我们现在用一个概率向量表示，如 (0.1,0.2,0.7) ，而不是仅包含二元项的向量 (0,0,1) 。我们使用 (3.4.8) 来定义损失  l 。它是所有标签分布的预期损失值。此损失称为 交叉熵损失（cross-entropy loss），它是分类问题最常用的损失之一。我们将通过介绍信息论的基础来理解这个名字"
   ]
  },
  {
   "cell_type": "markdown",
   "id": "8506b8df",
   "metadata": {},
   "source": [
    "4.我们可以从两方面来考虑交叉熵分类目标：（i）最大化观测数据的似然；（ii）尽量减少我们的惊异所需的通讯量。"
   ]
  },
  {
   "cell_type": "markdown",
   "id": "8013efbf",
   "metadata": {},
   "source": [
    "3.4.10. 练习\n",
    "我们可以更深入地探讨指数族与 softmax 之间的联系。\n",
    "\n",
    "1.计算softmax交叉熵损失 l(y,y^) 的二阶导数。\n",
    "\n",
    "    计算 softmax(o) 给出的分布方差，并与上面计算的二阶导数匹配。\n",
    "\n",
    "2.假设我们有三个类发生的概率相等，即概率向量是 (13,13,13)。\n",
    "\n",
    "    如果我们尝试为它设计二进制代码，有什么问题？\n",
    "\n",
    "    你能设计一个更好的代码吗？提示：如果我们尝试编码两个独立的观察结果会发生什么？如果我们联合编码 n 个观测值怎么办？\n",
    "\n",
    "3.softmax是对上面介绍的映射的误用(但深度学习中的每个人都使用它)。真正的softmax被定义为 RealSoftMax(a,b)=log(exp(a)+exp(b))。\n",
    "\n",
    "    证明 RealSoftMax(a,b)>max(a,b)。\n",
    "\n",
    "    证明 λ−1RealSoftMax(λa,λb)>max(a,b)成立，前提是 λ>0。\n",
    "\n",
    "    证明对于 λ→∞ ，有 λ−1RealSoftMax(λa,λb)→max(a,b)。\n",
    "\n",
    "    soft-min会是什么样子？\n",
    "\n",
    "    将其扩展到两个以上的数字。"
   ]
  },
  {
   "cell_type": "code",
   "execution_count": null,
   "id": "33ee802a",
   "metadata": {},
   "outputs": [],
   "source": []
  }
 ],
 "metadata": {
  "kernelspec": {
   "display_name": "Python 3",
   "language": "python",
   "name": "python3"
  },
  "language_info": {
   "codemirror_mode": {
    "name": "ipython",
    "version": 3
   },
   "file_extension": ".py",
   "mimetype": "text/x-python",
   "name": "python",
   "nbconvert_exporter": "python",
   "pygments_lexer": "ipython3",
   "version": "3.7.6"
  }
 },
 "nbformat": 4,
 "nbformat_minor": 5
}
