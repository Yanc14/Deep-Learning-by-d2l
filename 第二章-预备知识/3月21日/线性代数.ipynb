{
 "cells": [
  {
   "cell_type": "code",
   "execution_count": 2,
   "id": "d6fd1c8f",
   "metadata": {},
   "outputs": [
    {
     "data": {
      "text/plain": [
       "(tensor([5.]), tensor([6.]), tensor([1.5000]), tensor([9.]))"
      ]
     },
     "execution_count": 2,
     "metadata": {},
     "output_type": "execute_result"
    }
   ],
   "source": [
    "import torch\n",
    "\n",
    "x = torch.tensor([3.0])\n",
    "y = torch.tensor([2.0])\n",
    "\n",
    "x + y, x * y, x / y, x**y"
   ]
  },
  {
   "cell_type": "code",
   "execution_count": 3,
   "id": "78949c75",
   "metadata": {},
   "outputs": [
    {
     "data": {
      "text/plain": [
       "(tensor([0, 1, 2, 3]), tensor(3))"
      ]
     },
     "execution_count": 3,
     "metadata": {},
     "output_type": "execute_result"
    }
   ],
   "source": [
    "x = torch.arange(4)\n",
    "x,x[3]"
   ]
  },
  {
   "cell_type": "code",
   "execution_count": 4,
   "id": "317b51e2",
   "metadata": {},
   "outputs": [
    {
     "data": {
      "text/plain": [
       "4"
      ]
     },
     "execution_count": 4,
     "metadata": {},
     "output_type": "execute_result"
    }
   ],
   "source": [
    "len(x)"
   ]
  },
  {
   "cell_type": "code",
   "execution_count": 5,
   "id": "6d0ec77a",
   "metadata": {},
   "outputs": [
    {
     "data": {
      "text/plain": [
       "torch.Size([4])"
      ]
     },
     "execution_count": 5,
     "metadata": {},
     "output_type": "execute_result"
    }
   ],
   "source": [
    "x.shape"
   ]
  },
  {
   "cell_type": "code",
   "execution_count": 6,
   "id": "e1861ba9",
   "metadata": {},
   "outputs": [
    {
     "data": {
      "text/plain": [
       "tensor([[ 0,  1,  2,  3],\n",
       "        [ 4,  5,  6,  7],\n",
       "        [ 8,  9, 10, 11],\n",
       "        [12, 13, 14, 15],\n",
       "        [16, 17, 18, 19]])"
      ]
     },
     "execution_count": 6,
     "metadata": {},
     "output_type": "execute_result"
    }
   ],
   "source": [
    "A = torch.arange(20).reshape(5, 4)\n",
    "A"
   ]
  },
  {
   "cell_type": "code",
   "execution_count": 7,
   "id": "8cd1940d",
   "metadata": {},
   "outputs": [
    {
     "data": {
      "text/plain": [
       "tensor([[ 0,  4,  8, 12, 16],\n",
       "        [ 1,  5,  9, 13, 17],\n",
       "        [ 2,  6, 10, 14, 18],\n",
       "        [ 3,  7, 11, 15, 19]])"
      ]
     },
     "execution_count": 7,
     "metadata": {},
     "output_type": "execute_result"
    }
   ],
   "source": [
    "A.T"
   ]
  },
  {
   "cell_type": "code",
   "execution_count": 8,
   "id": "dc9ff68b",
   "metadata": {},
   "outputs": [
    {
     "data": {
      "text/plain": [
       "tensor([[[ 0,  1,  2,  3],\n",
       "         [ 4,  5,  6,  7],\n",
       "         [ 8,  9, 10, 11]],\n",
       "\n",
       "        [[12, 13, 14, 15],\n",
       "         [16, 17, 18, 19],\n",
       "         [20, 21, 22, 23]]])"
      ]
     },
     "execution_count": 8,
     "metadata": {},
     "output_type": "execute_result"
    }
   ],
   "source": [
    "X = torch.arange(24).reshape(2, 3, 4)\n",
    "X.T.T"
   ]
  },
  {
   "cell_type": "code",
   "execution_count": 9,
   "id": "8286c6af",
   "metadata": {},
   "outputs": [
    {
     "data": {
      "text/plain": [
       "(tensor([[ 0.,  1.,  2.,  3.],\n",
       "         [ 4.,  5.,  6.,  7.],\n",
       "         [ 8.,  9., 10., 11.],\n",
       "         [12., 13., 14., 15.],\n",
       "         [16., 17., 18., 19.]]),\n",
       " tensor([[ 0.,  2.,  4.,  6.],\n",
       "         [ 8., 10., 12., 14.],\n",
       "         [16., 18., 20., 22.],\n",
       "         [24., 26., 28., 30.],\n",
       "         [32., 34., 36., 38.]]))"
      ]
     },
     "execution_count": 9,
     "metadata": {},
     "output_type": "execute_result"
    }
   ],
   "source": [
    "A = torch.arange(20, dtype=torch.float32).reshape(5, 4)\n",
    "B = A.clone()  # 通过分配新内存，将A的一个副本分配给B\n",
    "A, A + B"
   ]
  },
  {
   "cell_type": "code",
   "execution_count": 11,
   "id": "dddea465",
   "metadata": {},
   "outputs": [
    {
     "data": {
      "text/plain": [
       "(tensor([[ 0.,  1.,  2.,  3.],\n",
       "         [ 4.,  5.,  6.,  7.],\n",
       "         [ 8.,  9., 10., 11.],\n",
       "         [12., 13., 14., 15.],\n",
       "         [16., 17., 18., 19.]]),\n",
       " tensor([[ 0.,  1.,  2.,  3.],\n",
       "         [ 4.,  5.,  6.,  7.],\n",
       "         [ 8.,  9., 10., 11.],\n",
       "         [12., 13., 14., 15.],\n",
       "         [16., 17., 18., 19.]]),\n",
       " tensor([[  0.,   1.,   4.,   9.],\n",
       "         [ 16.,  25.,  36.,  49.],\n",
       "         [ 64.,  81., 100., 121.],\n",
       "         [144., 169., 196., 225.],\n",
       "         [256., 289., 324., 361.]]))"
      ]
     },
     "execution_count": 11,
     "metadata": {},
     "output_type": "execute_result"
    }
   ],
   "source": [
    "A,B,A * B"
   ]
  },
  {
   "cell_type": "code",
   "execution_count": null,
   "id": "9ef2d7e8",
   "metadata": {},
   "outputs": [],
   "source": [
    "a = 2\n",
    "X = torch.arange(24).reshape(2, 3, 4)\n",
    "a + X, (a * X).shape"
   ]
  },
  {
   "cell_type": "markdown",
   "id": "787ba63d",
   "metadata": {},
   "source": [
    "降维,对每一行或列直接sum会对其降维,并默认为下一维的表示方式,采用sum（,keepdims=True）不会降维"
   ]
  },
  {
   "cell_type": "code",
   "execution_count": null,
   "id": "0417bdc8",
   "metadata": {},
   "outputs": [],
   "source": [
    "x = torch.arange(4, dtype=torch.float32)\n",
    "x, x.sum()"
   ]
  },
  {
   "cell_type": "code",
   "execution_count": null,
   "id": "2d43a56b",
   "metadata": {},
   "outputs": [],
   "source": [
    "A_sum_axis0 = A.sum(axis=1)\n",
    "A_sum_axis0, A_sum_axis0.shape"
   ]
  },
  {
   "cell_type": "code",
   "execution_count": null,
   "id": "435c6112",
   "metadata": {},
   "outputs": [],
   "source": [
    "A.sum(axis=[0, 1]),A.sum()  # Same as `A.sum()`"
   ]
  },
  {
   "cell_type": "code",
   "execution_count": null,
   "id": "e80cea04",
   "metadata": {},
   "outputs": [],
   "source": [
    "A.numel(),A.shape,A.sum()/A.numel(),A.mean()"
   ]
  },
  {
   "cell_type": "code",
   "execution_count": null,
   "id": "cf5a2017",
   "metadata": {},
   "outputs": [],
   "source": [
    "A.mean(axis=0), A.sum(axis=0) / A.shape[0]#对每行求平均"
   ]
  },
  {
   "cell_type": "code",
   "execution_count": null,
   "id": "5647c85f",
   "metadata": {},
   "outputs": [],
   "source": [
    "sum_A = A.sum(axis=1, keepdims=True)#保持轴不动的降维\n",
    "sum_A,A.sum(axis=0,keepdims=True),A.sum(axis=1),A.sum()"
   ]
  },
  {
   "cell_type": "markdown",
   "id": "3eb0d19f",
   "metadata": {},
   "source": [
    "例如，由于 sum_A 在对每行进行求和后仍保持两个轴，我们可以通过广播将 A 除以 sum_A 。"
   ]
  },
  {
   "cell_type": "code",
   "execution_count": null,
   "id": "05dacbd5",
   "metadata": {},
   "outputs": [],
   "source": [
    "A / sum_A,A / A.sum()#前者为每行归一化，后者是整个张量归一化"
   ]
  },
  {
   "cell_type": "markdown",
   "id": "82083d1e",
   "metadata": {},
   "source": [
    "如果我们想沿某个轴计算 A 元素的累积总和，比如 axis=0（按行计算），我们可以调用 cumsum 函数。此函数不会沿任何轴降低输入张量的维度。"
   ]
  },
  {
   "cell_type": "code",
   "execution_count": null,
   "id": "d1a781c2",
   "metadata": {},
   "outputs": [],
   "source": [
    "A,A.cumsum(axis=0)#按行方向累计求和"
   ]
  },
  {
   "cell_type": "markdown",
   "id": "d35981af",
   "metadata": {},
   "source": [
    "点积,当我们为矩阵 A 和向量 x 调用 np.dot(A, x)时，会执行矩阵-向量积。注意，A 的列维数（沿轴1的长度）必须与 x 的维数（其长度）相同。"
   ]
  },
  {
   "cell_type": "code",
   "execution_count": null,
   "id": "efdadd2d",
   "metadata": {},
   "outputs": [],
   "source": [
    "y = torch.ones(4, dtype=torch.float32)\n",
    "x, y, torch.dot(x, y),torch.sum(x * y)"
   ]
  },
  {
   "cell_type": "code",
   "execution_count": null,
   "id": "b08a0ff3",
   "metadata": {},
   "outputs": [],
   "source": [
    "A,x,A.shape, x.shape, torch.mv(A, x)"
   ]
  },
  {
   "cell_type": "code",
   "execution_count": null,
   "id": "cf15947b",
   "metadata": {},
   "outputs": [],
   "source": [
    "B = torch.ones(4, 3)\n",
    "torch.mm(A, B)"
   ]
  },
  {
   "cell_type": "markdown",
   "id": "db851a9a",
   "metadata": {},
   "source": [
    "可以按如下方式计算向量的  L2  范数和L1范数。"
   ]
  },
  {
   "cell_type": "code",
   "execution_count": null,
   "id": "7e7af440",
   "metadata": {},
   "outputs": [],
   "source": [
    "u = torch.tensor([3.0, -4.0])\n",
    "torch.norm(u),torch.abs(u).sum()"
   ]
  },
  {
   "cell_type": "code",
   "execution_count": null,
   "id": "1eb69f6f",
   "metadata": {},
   "outputs": [],
   "source": [
    "torch.norm(torch.ones((4, 9)))#矩阵的二阶范数，元素平方和开根号"
   ]
  },
  {
   "cell_type": "code",
   "execution_count": null,
   "id": "8099e487",
   "metadata": {},
   "outputs": [],
   "source": [
    "K=torch.arange(24).reshape(2,3,4)\n",
    "K,len(K),K.size()"
   ]
  },
  {
   "cell_type": "code",
   "execution_count": null,
   "id": "ebf7cd7a",
   "metadata": {},
   "outputs": [],
   "source": [
    "K.sum(axis=0,keepdims=True)"
   ]
  },
  {
   "cell_type": "code",
   "execution_count": null,
   "id": "d3ff038c",
   "metadata": {},
   "outputs": [],
   "source": [
    "K.sum(axis=1,keepdims=True),K.sum(axis=2,keepdims=True)"
   ]
  },
  {
   "cell_type": "code",
   "execution_count": null,
   "id": "8cc8565c",
   "metadata": {},
   "outputs": [],
   "source": []
  }
 ],
 "metadata": {
  "kernelspec": {
   "display_name": "Python 3",
   "language": "python",
   "name": "python3"
  },
  "language_info": {
   "codemirror_mode": {
    "name": "ipython",
    "version": 3
   },
   "file_extension": ".py",
   "mimetype": "text/x-python",
   "name": "python",
   "nbconvert_exporter": "python",
   "pygments_lexer": "ipython3",
   "version": "3.7.6"
  }
 },
 "nbformat": 4,
 "nbformat_minor": 5
}
