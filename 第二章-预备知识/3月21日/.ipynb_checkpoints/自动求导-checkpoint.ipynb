{
 "cells": [
  {
   "cell_type": "code",
   "execution_count": 3,
   "id": "bf6e1dfb",
   "metadata": {},
   "outputs": [
    {
     "data": {
      "text/plain": [
       "tensor([0., 1., 2., 3.])"
      ]
     },
     "execution_count": 3,
     "metadata": {},
     "output_type": "execute_result"
    }
   ],
   "source": [
    "import torch\n",
    "\n",
    "x = torch.arange(4.0)\n",
    "x"
   ]
  },
  {
   "cell_type": "markdown",
   "id": "68311860",
   "metadata": {},
   "source": [
    "在我们计算 y 关于 x 的梯度之前，我们需要一个地方来存储梯度。 重要的是，我们不会在每次对一个参数求导时都分配新的内存。因为我们经常会成千上万次地更新相同的参数，每次都分配新的内存可能很快就会将内存耗尽。注意，标量函数关于向量 x 的梯度是向量，并且与 x 具有相同的形状"
   ]
  },
  {
   "cell_type": "code",
   "execution_count": 4,
   "id": "f3c21ef1",
   "metadata": {},
   "outputs": [],
   "source": [
    "x.requires_grad_(True)  # 等价于 `x = torch.arange(4.0, requires_grad=True)`\n",
    "x.grad  # 默认值是None"
   ]
  },
  {
   "cell_type": "code",
   "execution_count": 5,
   "id": "b6a5e1ce",
   "metadata": {},
   "outputs": [
    {
     "data": {
      "text/plain": [
       "tensor(28., grad_fn=<MulBackward0>)"
      ]
     },
     "execution_count": 5,
     "metadata": {},
     "output_type": "execute_result"
    }
   ],
   "source": [
    "y = 2 * torch.dot(x, x)\n",
    "y"
   ]
  },
  {
   "cell_type": "markdown",
   "id": "e0588110",
   "metadata": {},
   "source": [
    "x 是一个长度为 4 的向量，计算 x 和 x 的内积，得到了我们赋值给 y 的标量输出。接下来，我们可以通过调用反向传播函数来自动计算y关于x 每个分量的梯度，并打印这些梯度。"
   ]
  },
  {
   "cell_type": "code",
   "execution_count": 6,
   "id": "2c946fe8",
   "metadata": {},
   "outputs": [
    {
     "data": {
      "text/plain": [
       "tensor([ 0.,  4.,  8., 12.])"
      ]
     },
     "execution_count": 6,
     "metadata": {},
     "output_type": "execute_result"
    }
   ],
   "source": [
    "y.backward()\n",
    "x.grad#逐元素求导"
   ]
  },
  {
   "cell_type": "code",
   "execution_count": 7,
   "id": "870f3874",
   "metadata": {},
   "outputs": [
    {
     "data": {
      "text/plain": [
       "tensor([1., 1., 1., 1.])"
      ]
     },
     "execution_count": 7,
     "metadata": {},
     "output_type": "execute_result"
    }
   ],
   "source": [
    "# 在默认情况下，PyTorch会累积梯度，我们需要清除之前的值\n",
    "x.grad.zero_()\n",
    "y = x.sum()\n",
    "y.backward()#对SUM(X)求导显然为一dΣxi/dxi\n",
    "x.grad"
   ]
  },
  {
   "cell_type": "markdown",
   "id": "87eea7a0",
   "metadata": {},
   "source": [
    "非标量变量的反向传播，即Y不在为X的标量函数，作为一个矩阵Y(X)"
   ]
  },
  {
   "cell_type": "code",
   "execution_count": 8,
   "id": "f4729326",
   "metadata": {},
   "outputs": [
    {
     "data": {
      "text/plain": [
       "(tensor([0., 2., 4., 6.]),)"
      ]
     },
     "execution_count": 8,
     "metadata": {},
     "output_type": "execute_result"
    }
   ],
   "source": [
    "# 对非标量调用`backward`需要传入一个`gradient`参数，该参数指定微分函数关于`self`的梯度。在我们的例子中，我们只想求偏导数的和，所以传递一个1的梯度是合适的\n",
    "x.grad.zero_()\n",
    "y = x * x\n",
    "# 等价于y.backward(torch.ones(len(x)))\n",
    "y.sum(),\n",
    "y.sum().backward(),\n",
    "x.grad,"
   ]
  },
  {
   "cell_type": "code",
   "execution_count": 9,
   "id": "437e917d",
   "metadata": {},
   "outputs": [
    {
     "data": {
      "text/plain": [
       "(tensor(14., grad_fn=<SumBackward0>),\n",
       " tensor([0., 1., 4., 9.], grad_fn=<MulBackward0>))"
      ]
     },
     "execution_count": 9,
     "metadata": {},
     "output_type": "execute_result"
    }
   ],
   "source": [
    "y.sum(),y"
   ]
  },
  {
   "cell_type": "markdown",
   "id": "be5e2cc7",
   "metadata": {},
   "source": [
    "在这里，我们可以分离 y 来返回一个新变量 u，该变量与 y 具有相同的值，但丢弃计算图中如何计算 y 的任何信息。换句话说，梯度不会向后流经 u 到 x。因此，下面的反向传播函数计算 z = u * x 关于 x 的偏导数，同时将 u 作为常数处理，而不是z = x * x * x关于 x 的偏导数"
   ]
  },
  {
   "cell_type": "code",
   "execution_count": 10,
   "id": "52828dcd",
   "metadata": {},
   "outputs": [
    {
     "data": {
      "text/plain": [
       "tensor([True, True, True, True])"
      ]
     },
     "execution_count": 10,
     "metadata": {},
     "output_type": "execute_result"
    }
   ],
   "source": [
    "x.grad.zero_()\n",
    "y = x * x\n",
    "u = y.detach()\n",
    "z = u * x\n",
    "\n",
    "z.sum().backward()\n",
    "x.grad == u"
   ]
  },
  {
   "cell_type": "markdown",
   "id": "926dfc7d",
   "metadata": {},
   "source": [
    "由于记录了 y 的计算结果，我们可以随后在 y 上调用反向传播，得到 y = x * x 关于的x的导数，这里是 2 * x。"
   ]
  },
  {
   "cell_type": "code",
   "execution_count": 11,
   "id": "f83b589b",
   "metadata": {},
   "outputs": [
    {
     "data": {
      "text/plain": [
       "tensor([True, True, True, True])"
      ]
     },
     "execution_count": 11,
     "metadata": {},
     "output_type": "execute_result"
    }
   ],
   "source": [
    "x.grad.zero_()\n",
    "y.sum().backward()\n",
    "x.grad == 2 * x"
   ]
  },
  {
   "cell_type": "markdown",
   "id": "82b33168",
   "metadata": {},
   "source": [
    "Python控制流的梯度计算"
   ]
  },
  {
   "cell_type": "code",
   "execution_count": 30,
   "id": "c38e15b9",
   "metadata": {},
   "outputs": [],
   "source": [
    "def f(a):\n",
    "    b = a * 2\n",
    "    while b.norm() < 1000:#此时b为一个一阶tensor,求其二阶范数\n",
    "        b = b * 2\n",
    "    if b.sum() > 0:\n",
    "        c = b\n",
    "    else:\n",
    "        c = 100 * b\n",
    "    return c"
   ]
  },
  {
   "cell_type": "code",
   "execution_count": 31,
   "id": "46b02f98",
   "metadata": {},
   "outputs": [
    {
     "data": {
      "text/plain": [
       "(tensor(-0.3570, requires_grad=True),\n",
       " tensor(-146207.0781, grad_fn=<MulBackward0>))"
      ]
     },
     "execution_count": 31,
     "metadata": {},
     "output_type": "execute_result"
    }
   ],
   "source": [
    "a = torch.randn(size=(), requires_grad=True)\n",
    "d = f(a)\n",
    "d.backward(retain_graph=True)\n",
    "a,d"
   ]
  },
  {
   "cell_type": "markdown",
   "id": "944df14a",
   "metadata": {},
   "source": [
    "我们现在可以分析上面定义的 f 函数。请注意，它在其输入 a 中是分段线性的。换言之，对于任何 a，存在某个常量标量 k，使得 f(a) = k * a，其中 k 的值取决于输入 a。因此，d / a 允许我们验证梯度是否正确。"
   ]
  },
  {
   "cell_type": "code",
   "execution_count": 14,
   "id": "5f51312f",
   "metadata": {},
   "outputs": [
    {
     "data": {
      "text/plain": [
       "tensor(True)"
      ]
     },
     "execution_count": 14,
     "metadata": {},
     "output_type": "execute_result"
    }
   ],
   "source": [
    "a.grad == d / a"
   ]
  },
  {
   "cell_type": "code",
   "execution_count": 15,
   "id": "44c70120",
   "metadata": {},
   "outputs": [
    {
     "data": {
      "text/plain": [
       "tensor([[0],\n",
       "        [1],\n",
       "        [2]])"
      ]
     },
     "execution_count": 15,
     "metadata": {},
     "output_type": "execute_result"
    }
   ],
   "source": [
    "a = torch.arange(3).reshape(3,1)\n",
    "a"
   ]
  },
  {
   "cell_type": "markdown",
   "id": "cf757c27",
   "metadata": {},
   "source": [
    "课后作业1：在运行反向传播函数之后，立即再次运行它，看看会发生什么。"
   ]
  },
  {
   "cell_type": "code",
   "execution_count": 16,
   "id": "ba0faf03",
   "metadata": {},
   "outputs": [
    {
     "data": {
      "text/plain": [
       "tensor([ 0.,  2.,  4.,  6.,  8., 10., 12., 14., 16., 18.])"
      ]
     },
     "execution_count": 16,
     "metadata": {},
     "output_type": "execute_result"
    }
   ],
   "source": [
    "x=torch.arange(10.,requires_grad=True)\n",
    "y = torch.dot(x**2,torch.ones_like(x))\n",
    "y.backward(retain_graph=True)\n",
    "x.grad"
   ]
  },
  {
   "cell_type": "code",
   "execution_count": 17,
   "id": "1c881fdc",
   "metadata": {},
   "outputs": [
    {
     "data": {
      "text/plain": [
       "tensor([ 0.,  4.,  8., 12., 16., 20., 24., 28., 32., 36.])"
      ]
     },
     "execution_count": 17,
     "metadata": {},
     "output_type": "execute_result"
    }
   ],
   "source": [
    "y.backward()#注意grad是累加的\n",
    "x.grad"
   ]
  },
  {
   "cell_type": "code",
   "execution_count": 18,
   "id": "11083664",
   "metadata": {},
   "outputs": [
    {
     "data": {
      "text/plain": [
       "tensor([0., 0., 0., 0., 0., 0., 0., 0., 0., 0.])"
      ]
     },
     "execution_count": 18,
     "metadata": {},
     "output_type": "execute_result"
    }
   ],
   "source": [
    "x.grad.zero_()"
   ]
  },
  {
   "cell_type": "markdown",
   "id": "1e212964",
   "metadata": {},
   "source": [
    "作业3：在控制流的例子中，我们计算 d 关于 a 的导数，如果我们将变量 a 更改为随机向量或矩阵，会发生什么？此时，计算结果 f(a) 不再是标量。结果会发生什么？我们如何分析这个结果？"
   ]
  },
  {
   "cell_type": "code",
   "execution_count": 19,
   "id": "94098755",
   "metadata": {},
   "outputs": [],
   "source": [
    "def f(a):\n",
    "    b = a * 2\n",
    "    while b.norm() < 1000:#b.norm()此时b为二阶tensor,求其范数\n",
    "        b = b * 2\n",
    "    if b.sum() > 0:\n",
    "        c = b\n",
    "    else:\n",
    "        c = 100 * b\n",
    "    return c"
   ]
  },
  {
   "cell_type": "code",
   "execution_count": 74,
   "id": "0fe995f3",
   "metadata": {},
   "outputs": [
    {
     "data": {
      "text/plain": [
       "tensor([[ 0.4740, -1.5239, -0.1199, -0.5706]], requires_grad=True)"
      ]
     },
     "execution_count": 74,
     "metadata": {},
     "output_type": "execute_result"
    }
   ],
   "source": [
    "a = torch.randn(size=(1,4), requires_grad=True)\n",
    "#a = torch.arange(4.,requires_grad=True).reshape(1,4)\n",
    "#a = torch.tensor([1.,2.,3.,4.],requires_grad=True)\n",
    "a"
   ]
  },
  {
   "cell_type": "code",
   "execution_count": 78,
   "id": "515bc272",
   "metadata": {
    "scrolled": true
   },
   "outputs": [
    {
     "data": {
      "text/plain": [
       "(tensor([[ 0.4740, -1.5239, -0.1199, -0.5706]], requires_grad=True),\n",
       " tensor([[1.0844,    nan,    nan,    nan]], grad_fn=<AddBackward0>),\n",
       " tensor([[  9.3283,  -6.9722, -15.3897,  -4.6571]]))"
      ]
     },
     "execution_count": 78,
     "metadata": {},
     "output_type": "execute_result"
    }
   ],
   "source": [
    "b = f(a)\n",
    "b.sum().backward()\n",
    "a,b,a.grad,#b.sum()#总结：计算向量点乘dot,矩阵mm();对矩阵反向传播用sum().backward()\n",
    "#以及创建tensor，arange().reshape与randon(size())与tensor()"
   ]
  },
  {
   "cell_type": "markdown",
   "id": "ac6a5b74",
   "metadata": {},
   "source": [
    "作业四：重新设计一个求控制流梯度的例子。运行并分析结果。"
   ]
  },
  {
   "cell_type": "code",
   "execution_count": 101,
   "id": "ed78a4d7",
   "metadata": {},
   "outputs": [],
   "source": [
    "def f(a):\n",
    "    c=a**2+torch.log(a)\n",
    "    \n",
    "    return c"
   ]
  },
  {
   "cell_type": "code",
   "execution_count": 104,
   "id": "bb170c0e",
   "metadata": {},
   "outputs": [
    {
     "data": {
      "text/plain": [
       "(tensor([1., 1., 1., 1.], grad_fn=<AddBackward0>), tensor([3., 3., 3., 3.]))"
      ]
     },
     "execution_count": 104,
     "metadata": {},
     "output_type": "execute_result"
    }
   ],
   "source": [
    "a=torch.tensor([1.,1.,1.,1.],requires_grad=True)\n",
    "b=f(a)\n",
    "b.sum().backward()\n",
    "b,a.grad"
   ]
  },
  {
   "cell_type": "markdown",
   "id": "6fe7c1df",
   "metadata": {},
   "source": [
    "作业5：使 f(x)=sin(x) ，绘制 f(x)  和 df(x)dx 的图像，其中后者不使用 f′(x)=cos(x) 。"
   ]
  },
  {
   "cell_type": "code",
   "execution_count": 100,
   "id": "34ff32f3",
   "metadata": {},
   "outputs": [],
   "source": [
    "def f1(a):\n",
    "    c=torch.sin(a)\n",
    "    return c"
   ]
  },
  {
   "cell_type": "code",
   "execution_count": 150,
   "id": "2ad66c2f",
   "metadata": {},
   "outputs": [],
   "source": [
    "%matplotlib inline\n",
    "import torch\n",
    "import matplotlib.pylab as plt\n",
    "from matplotlib.ticker import FuncFormatter, MultipleLocator\n",
    "import numpy as np"
   ]
  },
  {
   "cell_type": "code",
   "execution_count": 190,
   "id": "dbb6fa6b",
   "metadata": {
    "scrolled": true
   },
   "outputs": [
    {
     "data": {
      "image/png": "[encoded data removed]",
      "text/plain": [
       "<Figure size 432x288 with 1 Axes>"
      ]
     },
     "metadata": {
      "needs_background": "light"
     },
     "output_type": "display_data"
    }
   ],
   "source": [
    "f,ax=plt.subplots(1)\n",
    "\n",
    "x = np.linspace(-3*np.pi, 3*np.pi, 100)\n",
    "x1= torch.tensor(x, requires_grad=True)#转换成tensor\n",
    "y1= torch.sin(x1)\n",
    "y1.sum().backward()\n",
    "\n",
    "ax.plot(x,np.sin(x),label= 'sin(x)',color='r')\n",
    "ax.plot(x,x1.grad,label=\"cos(x)\",color=\"b\")\n",
    "ax.legend(loc= 'best', shadow=True)\n",
    "\n",
    "ax.xaxis.set_major_formatter(FuncFormatter(lambda val,pos: '{:.0g}*pi'.format(val/np.pi) if val !=0 else '0'))#设置每个格子的单位\n",
    "ax.xaxis.set_major_locator(MultipleLocator(base=np.pi))#设置x轴显示范围，格数\n",
    "ax.yaxis.set_major_locator(MultipleLocator(base=0.1))\n",
    "\n",
    "plt.show()"
   ]
  },
  {
   "cell_type": "code",
   "execution_count": 175,
   "id": "8ecea879",
   "metadata": {},
   "outputs": [
    {
     "data": {
      "text/plain": [
       "'0.50/pi'"
      ]
     },
     "execution_count": 175,
     "metadata": {},
     "output_type": "execute_result"
    }
   ],
   "source": [
    "p=lambda x,y: '{:.2f}/pi'.format(x/y) if x!=y else '0'\n",
    "p(1 ,2)"
   ]
  }
 ],
 "metadata": {
  "kernelspec": {
   "display_name": "Python 3",
   "language": "python",
   "name": "python3"
  },
  "language_info": {
   "codemirror_mode": {
    "name": "ipython",
    "version": 3
   },
   "file_extension": ".py",
   "mimetype": "text/x-python",
   "name": "python",
   "nbconvert_exporter": "python",
   "pygments_lexer": "ipython3",
   "version": "3.7.6"
  }
 },
 "nbformat": 4,
 "nbformat_minor": 5
}
